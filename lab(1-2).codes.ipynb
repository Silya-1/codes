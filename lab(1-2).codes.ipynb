{
 "cells": [
  {
   "cell_type": "code",
   "execution_count": 1,
   "metadata": {},
   "outputs": [],
   "source": [
    "import numpy as np\n",
    "import copy\n",
    "import random\n",
    "from matplotlib import pyplot as plt\n",
    "from matplotlib.pyplot import figure\n",
    "from tqdm import tqdm"
   ]
  },
  {
   "cell_type": "code",
   "execution_count": 2,
   "metadata": {},
   "outputs": [],
   "source": [
    "plt.rcParams['font.family'] = 'serif'\n",
    "plt.rcParams['font.serif'] = 'FreeSerif'\n",
    "plt.rcParams['lines.linewidth'] = 2\n",
    "plt.rcParams['lines.markersize'] = 12\n",
    "plt.rcParams['xtick.labelsize'] = 24\n",
    "plt.rcParams['ytick.labelsize'] = 24\n",
    "plt.rcParams['legend.fontsize'] = 24\n",
    "plt.rcParams['axes.titlesize'] = 36\n",
    "plt.rcParams['axes.labelsize'] = 24"
   ]
  },
  {
   "cell_type": "markdown",
   "metadata": {},
   "source": [
    "## Реализуем поле GF(2^6) по модулю многочлена p(x)=x^6+x+1"
   ]
  },
  {
   "cell_type": "code",
   "execution_count": 3,
   "metadata": {},
   "outputs": [],
   "source": [
    "def polynome_mul(a, b):\n",
    "    d = i = 0\n",
    "    while b > 0:\n",
    "        if b & 1:\n",
    "            d ^= (a << i)\n",
    "        b = b >> 1\n",
    "        i += 1\n",
    "    return d "
   ]
  },
  {
   "cell_type": "code",
   "execution_count": 4,
   "metadata": {},
   "outputs": [],
   "source": [
    "def polynome_div(a, b):\n",
    "    res = 0\n",
    "    r = a.bit_length() - b.bit_length()\n",
    "    while (r >= 0): \n",
    "        res += 1 << r\n",
    "        a ^= b << r\n",
    "        r = a.bit_length() - b.bit_length()\n",
    "    return res"
   ]
  },
  {
   "cell_type": "code",
   "execution_count": 5,
   "metadata": {},
   "outputs": [],
   "source": [
    "def galois_mul(a, b, base_polynome=int(\"1000011\",2)):\n",
    "    mul = polynome_mul(a, b)\n",
    "    for i in range(len(bin(mul)) - 2, len(bin(base_polynome)) - 4, -1):\n",
    "        if ((1 << i) & mul):\n",
    "            mul ^= base_polynome << i - len(bin(base_polynome)) +3\n",
    "    return int(mul)\n"
   ]
  },
  {
   "cell_type": "code",
   "execution_count": 6,
   "metadata": {},
   "outputs": [],
   "source": [
    "def galois_add(a, b):\n",
    "    return a^b"
   ]
  },
  {
   "cell_type": "code",
   "execution_count": 7,
   "metadata": {},
   "outputs": [],
   "source": [
    "def find_inverse(matrix_mul ,a):\n",
    "    for i in range(len(matrix_mul[int(a-1) % 63])):\n",
    "        if matrix_mul[int(a-1) %63][i] == 1:\n",
    "            return i+1\n",
    "    return 0"
   ]
  },
  {
   "cell_type": "code",
   "execution_count": 8,
   "metadata": {},
   "outputs": [
    {
     "data": {
      "text/plain": [
       "array([[ 1,  2,  3, ..., 61, 62, 63],\n",
       "       [ 2,  4,  6, ..., 57, 63, 61],\n",
       "       [ 3,  6,  5, ...,  4,  1,  2],\n",
       "       ...,\n",
       "       [61, 57,  4, ..., 46, 42, 23],\n",
       "       [62, 63,  1, ..., 42, 43, 21],\n",
       "       [63, 61,  2, ..., 23, 21, 42]])"
      ]
     },
     "execution_count": 8,
     "metadata": {},
     "output_type": "execute_result"
    }
   ],
   "source": [
    "matrix_mul = np.zeros((2**6 - 1, 2**6 -1)).astype(int)\n",
    "matrix_mul[0, :] = np.arange(1, 2**6, 1).astype(int)\n",
    "matrix_mul[:, 0] = np.arange(1 , 2**6, 1).astype(int)\n",
    "for i in range(len(matrix_mul)):\n",
    "    for j in range(len(matrix_mul)):\n",
    "        matrix_mul[i][j] = galois_mul(i + 1 , j + 1)\n",
    "matrix_mul"
   ]
  },
  {
   "cell_type": "code",
   "execution_count": 9,
   "metadata": {},
   "outputs": [
    {
     "data": {
      "text/plain": [
       "array([[ 1,  1,  1, ...,  1,  1,  1],\n",
       "       [ 2,  4,  8, ..., 49, 33,  1],\n",
       "       [ 3,  5, 15, ..., 43, 62,  1],\n",
       "       ...,\n",
       "       [61, 46, 43, ..., 12, 16,  1],\n",
       "       [62, 43, 25, ...,  5,  3,  1],\n",
       "       [63, 42, 13, ..., 48, 32,  1]])"
      ]
     },
     "execution_count": 9,
     "metadata": {},
     "output_type": "execute_result"
    }
   ],
   "source": [
    "matrix_pow = np.zeros((2**6 - 1, 2**6 -1)).astype(int)\n",
    "matrix_pow[0, :] = np.arange(1, 2**6, 1).astype(int)\n",
    "matrix_pow[:, 0] = np.arange(1 , 2**6, 1).astype(int)\n",
    "for i in range(len(matrix_mul)):\n",
    "    for j in range(1, len(matrix_pow)):\n",
    "        matrix_pow[i][j] = galois_mul(i+1 ,int(matrix_pow[i][j-1]))\n",
    "matrix_pow"
   ]
  },
  {
   "cell_type": "code",
   "execution_count": 10,
   "metadata": {},
   "outputs": [
    {
     "data": {
      "text/plain": [
       "array([[ 0,  1,  2, ..., 61, 62, 63],\n",
       "       [ 1,  0,  3, ..., 60, 63, 62],\n",
       "       [ 2,  3,  0, ..., 63, 60, 61],\n",
       "       ...,\n",
       "       [61, 60, 63, ...,  0,  3,  2],\n",
       "       [62, 63, 60, ...,  3,  0,  1],\n",
       "       [63, 62, 61, ...,  2,  1,  0]])"
      ]
     },
     "execution_count": 10,
     "metadata": {},
     "output_type": "execute_result"
    }
   ],
   "source": [
    "matrix_add = np.zeros((2**6, 2**6)).astype(int)\n",
    "matrix_add[0, :] = np.arange(2**6).astype(int)\n",
    "matrix_add[:, 0] = np.arange(2**6).astype(int)\n",
    "for i in range(len(matrix_add)):\n",
    "    for j in range(len(matrix_add)):\n",
    "        matrix_add[i][j] =  galois_add(i, j)\n",
    "matrix_add"
   ]
  },
  {
   "cell_type": "markdown",
   "metadata": {},
   "source": [
    "##  Находим последовательные корни и сопряженные им элементы"
   ]
  },
  {
   "cell_type": "code",
   "execution_count": 11,
   "metadata": {},
   "outputs": [
    {
     "data": {
      "text/plain": [
       "{1: [2, 4, 8, 16, 32, 1],\n",
       " 2: [],\n",
       " 3: [6, 12, 24, 48, 33, 3],\n",
       " 4: [],\n",
       " 5: [10, 20, 40, 17, 34, 5],\n",
       " 6: [],\n",
       " 7: [14, 28, 56, 49, 35, 7],\n",
       " 8: [],\n",
       " 9: [18, 36, 9],\n",
       " 10: [],\n",
       " 11: [22, 44, 25, 50, 37, 11],\n",
       " 12: [],\n",
       " 13: [26, 52, 41, 19, 38, 13],\n",
       " 14: [],\n",
       " 15: [30, 60, 57, 51, 39, 15],\n",
       " 16: [],\n",
       " 17: [],\n",
       " 18: [],\n",
       " 19: [],\n",
       " 20: [],\n",
       " 21: [42, 21],\n",
       " 22: [],\n",
       " 23: [46, 29, 58, 53, 43, 23],\n",
       " 24: [],\n",
       " 25: [],\n",
       " 26: [],\n",
       " 27: [54, 45, 27],\n",
       " 28: [],\n",
       " 29: [],\n",
       " 30: [],\n",
       " 31: [62, 61, 59, 55, 47, 31],\n",
       " 0: [0]}"
      ]
     },
     "execution_count": 11,
     "metadata": {},
     "output_type": "execute_result"
    }
   ],
   "source": [
    "classes = {}\n",
    "array = [x for x in range(1,2**6 - 1, 1)]\n",
    "mul = 2\n",
    "count = 1\n",
    "while(len(array) != 0):\n",
    "    classes[count] = []\n",
    "    for i in range(1, 2**6,1):\n",
    "        a =  count * mul**i %  (2**6 - 1)\n",
    "        if a in array:\n",
    "            array.remove(a)\n",
    "            classes[count].append(a)\n",
    "    count += 1\n",
    "classes[0] = [0]\n",
    "classes"
   ]
  },
  {
   "cell_type": "markdown",
   "metadata": {},
   "source": [
    "## Создаем проверочную матрицу для (63,10,27) БЧХ кода"
   ]
  },
  {
   "cell_type": "code",
   "execution_count": 12,
   "metadata": {},
   "outputs": [
    {
     "data": {
      "text/plain": [
       "['000000000000000000000000000000000000000000000000000010011111101',\n",
       " '000000000000000000000000000000000000000000000000000100111111010',\n",
       " '000000000000000000000000000000000000000000000000001001111110100',\n",
       " '000000000000000000000000000000000000000000000000010011111101000',\n",
       " '000000000000000000000000000000000000000000000000100111111010000',\n",
       " '000000000000000000000000000000000000000000000001001111110100000',\n",
       " '000000000000000000000000000000000000000000000010011111101000000',\n",
       " '000000000000000000000000000000000000000000000100111111010000000',\n",
       " '000000000000000000000000000000000000000000001001111110100000000',\n",
       " '000000000000000000000000000000000000000000010011111101000000000',\n",
       " '000000000000000000000000000000000000000000100111111010000000000',\n",
       " '000000000000000000000000000000000000000001001111110100000000000',\n",
       " '000000000000000000000000000000000000000010011111101000000000000',\n",
       " '000000000000000000000000000000000000000100111111010000000000000',\n",
       " '000000000000000000000000000000000000001001111110100000000000000',\n",
       " '000000000000000000000000000000000000010011111101000000000000000',\n",
       " '000000000000000000000000000000000000100111111010000000000000000',\n",
       " '000000000000000000000000000000000001001111110100000000000000000',\n",
       " '000000000000000000000000000000000010011111101000000000000000000',\n",
       " '000000000000000000000000000000000100111111010000000000000000000',\n",
       " '000000000000000000000000000000001001111110100000000000000000000',\n",
       " '000000000000000000000000000000010011111101000000000000000000000',\n",
       " '000000000000000000000000000000100111111010000000000000000000000',\n",
       " '000000000000000000000000000001001111110100000000000000000000000',\n",
       " '000000000000000000000000000010011111101000000000000000000000000',\n",
       " '000000000000000000000000000100111111010000000000000000000000000',\n",
       " '000000000000000000000000001001111110100000000000000000000000000',\n",
       " '000000000000000000000000010011111101000000000000000000000000000',\n",
       " '000000000000000000000000100111111010000000000000000000000000000',\n",
       " '000000000000000000000001001111110100000000000000000000000000000',\n",
       " '000000000000000000000010011111101000000000000000000000000000000',\n",
       " '000000000000000000000100111111010000000000000000000000000000000',\n",
       " '000000000000000000001001111110100000000000000000000000000000000',\n",
       " '000000000000000000010011111101000000000000000000000000000000000',\n",
       " '000000000000000000100111111010000000000000000000000000000000000',\n",
       " '000000000000000001001111110100000000000000000000000000000000000',\n",
       " '000000000000000010011111101000000000000000000000000000000000000',\n",
       " '000000000000000100111111010000000000000000000000000000000000000',\n",
       " '000000000000001001111110100000000000000000000000000000000000000',\n",
       " '000000000000010011111101000000000000000000000000000000000000000',\n",
       " '000000000000100111111010000000000000000000000000000000000000000',\n",
       " '000000000001001111110100000000000000000000000000000000000000000',\n",
       " '000000000010011111101000000000000000000000000000000000000000000',\n",
       " '000000000100111111010000000000000000000000000000000000000000000',\n",
       " '000000001001111110100000000000000000000000000000000000000000000',\n",
       " '000000010011111101000000000000000000000000000000000000000000000',\n",
       " '000000100111111010000000000000000000000000000000000000000000000',\n",
       " '000001001111110100000000000000000000000000000000000000000000000',\n",
       " '000010011111101000000000000000000000000000000000000000000000000',\n",
       " '000100111111010000000000000000000000000000000000000000000000000',\n",
       " '001001111110100000000000000000000000000000000000000000000000000',\n",
       " '010011111101000000000000000000000000000000000000000000000000000',\n",
       " '100111111010000000000000000000000000000000000000000000000000000']"
      ]
     },
     "execution_count": 12,
     "metadata": {},
     "output_type": "execute_result"
    }
   ],
   "source": [
    "H = []\n",
    "H_view = []\n",
    "polinoms = [int(\"1100001\",2), int(\"1011\",2), int(\"11\",2)]\n",
    "check_pol = 1\n",
    "for i in  polinoms:\n",
    "    check_pol = polynome_mul(check_pol,i)\n",
    "create_pol = polynome_div(2 ** 63 + 1, check_pol)\n",
    "for i in range(53):\n",
    "    parsed_row = list(map(int,list((bin(check_pol)))[2:]))\n",
    "    row = [0 for x in range(63 - len(parsed_row))]\n",
    "    row.extend(parsed_row)\n",
    "    H_view.append(\"\".join(str(x) for x in row))\n",
    "    H.append(row)\n",
    "    check_pol = polynome_mul(2, check_pol)\n",
    "H_view"
   ]
  },
  {
   "cell_type": "markdown",
   "metadata": {},
   "source": [
    "## Создаем порождающую матрицу для (63,10,27) БЧХ кода"
   ]
  },
  {
   "cell_type": "code",
   "execution_count": 13,
   "metadata": {},
   "outputs": [
    {
     "name": "stdout",
     "output_type": "stream",
     "text": [
      "Порождающий многочлен - 0o472622305527250155\n"
     ]
    },
    {
     "data": {
      "text/plain": [
       "['101101100000101010111010101101000110010010011010111001000000000',\n",
       " '010110110000010101011101010110100011001001001101011100100000000',\n",
       " '001011011000001010101110101011010001100100100110101110010000000',\n",
       " '000101101100000101010111010101101000110010010011010111001000000',\n",
       " '000010110110000010101011101010110100011001001001101011100100000',\n",
       " '000001011011000001010101110101011010001100100100110101110010000',\n",
       " '000000101101100000101010111010101101000110010010011010111001000',\n",
       " '000000010110110000010101011101010110100011001001001101011100100',\n",
       " '000000001011011000001010101110101011010001100100100110101110010',\n",
       " '000000000101101100000101010111010101101000110010010011010111001']"
      ]
     },
     "execution_count": 13,
     "metadata": {},
     "output_type": "execute_result"
    }
   ],
   "source": [
    "G = []\n",
    "G_view = []\n",
    "print(\"Порождающий многочлен - \" + (oct(create_pol)))\n",
    "for i in range(10):\n",
    "    row = list(map(int,list(reversed(bin(create_pol)))[:-2]))\n",
    "    row.extend([0 for x in range(63 - len(row))])\n",
    "    G_view.append(\"\".join(str(x) for x in row))\n",
    "    G.append(row)\n",
    "    create_pol = polynome_mul(2, create_pol)\n",
    "G_view"
   ]
  },
  {
   "cell_type": "markdown",
   "metadata": {},
   "source": [
    "# Процедура кодирования кода"
   ]
  },
  {
   "cell_type": "code",
   "execution_count": 14,
   "metadata": {},
   "outputs": [],
   "source": [
    "def code(G, u):\n",
    "    res = [0 for x in range(len(G[0]))]\n",
    "    for i in range(len(G[0])):\n",
    "        for j in range(len(u)):\n",
    "            res[i] ^= (u[j] & G[j][i])\n",
    "    return res"
   ]
  },
  {
   "cell_type": "markdown",
   "metadata": {},
   "source": [
    " ## Находим все кодовые слова"
   ]
  },
  {
   "cell_type": "code",
   "execution_count": 15,
   "metadata": {},
   "outputs": [],
   "source": [
    "words = []\n",
    "for i in range(2**10):\n",
    "    word = list(map(int,list(bin(i))[2:]))\n",
    "    vec = [0 for x in range(10 - len(word))]\n",
    "    vec.extend(word)\n",
    "    words.append(vec)\n",
    "voc = [code(G, u) for u in words]"
   ]
  },
  {
   "cell_type": "markdown",
   "metadata": {},
   "source": [
    "# Декодирование кода"
   ]
  },
  {
   "cell_type": "markdown",
   "metadata": {},
   "source": [
    "## Декодирование по максимуму правдоподобия"
   ]
  },
  {
   "cell_type": "code",
   "execution_count": 16,
   "metadata": {},
   "outputs": [],
   "source": [
    "def most_suit(voc,v):\n",
    "    min_dif = 2**63\n",
    "    res = []\n",
    "    for word in voc:\n",
    "        step = np.asarray([word[i] ^ v[i] for i in range(len(v))])\n",
    "        difference = np.count_nonzero(step == 1)\n",
    "        if min_dif > difference:\n",
    "            res = word\n",
    "            min_dif = difference\n",
    "    return res\n",
    "        \n",
    "            "
   ]
  },
  {
   "cell_type": "markdown",
   "metadata": {},
   "source": [
    "## Декодирование методом Горенстейна-Петерсона-Цирлера"
   ]
  },
  {
   "cell_type": "markdown",
   "metadata": {},
   "source": [
    "## Вычисляем синдром "
   ]
  },
  {
   "cell_type": "code",
   "execution_count": 17,
   "metadata": {},
   "outputs": [],
   "source": [
    "def get_syndrom(matrix_pow, v, t=13):\n",
    "    res = []\n",
    "    s_1 = 0\n",
    "    for i in range(2 * t):\n",
    "        s_1= 0\n",
    "        alpha = int(matrix_pow[1][i])\n",
    "        for j in range(len(v)):\n",
    "            s_1 ^= matrix_pow[alpha - 1][j-1] * v[j]\n",
    "        res.append(s_1)\n",
    "    return res"
   ]
  },
  {
   "cell_type": "markdown",
   "metadata": {},
   "source": [
    "## Решение системы линейных уравнений в поле"
   ]
  },
  {
   "cell_type": "code",
   "execution_count": 18,
   "metadata": {},
   "outputs": [],
   "source": [
    "def solve(matrix_main, vector_main, matrix_mul, n=63):\n",
    "    matrix = matrix_main.copy()\n",
    "    vector = vector_main.copy()\n",
    "    res = [0 for i in range(len(matrix))]\n",
    "    order = [0 for i in range(len(matrix))]\n",
    "    t = len(matrix)\n",
    "    for k in range(1, t):\n",
    "        for i in range (k, t):\n",
    "            if(matrix[k-1][k - 1] == 0):\n",
    "                for z in range(k-1,t):\n",
    "                    if matrix[z][k-1] != 0:\n",
    "                        a = matrix[k-1].copy()\n",
    "                        matrix[k-1] = matrix[z].copy()\n",
    "                        matrix[z] = a\n",
    "                        a = vector[k-1]\n",
    "                        vector[k-1] = vector[z]\n",
    "                        vector[z] = a\n",
    "                        break\n",
    "            save = matrix[i][k - 1]\n",
    "            step = matrix_mul[(find_inverse(matrix_mul,matrix[k - 1][k - 1]) - 1)%63][(save-1)%n]\n",
    "            if save ==0:\n",
    "                continue\n",
    "            for j in range(k-1,t):\n",
    "                if matrix[k -1][j]  != 0:\n",
    "                    matrix[i][j] = matrix[i][j] ^ matrix_mul[(matrix[k -1][j] - 1) % n][(step -1) %n]\n",
    "            if vector[k-1] != 0:\n",
    "                vector[i] = vector[i] ^ matrix_mul[(vector[k-1]- 1) % n][(step -1) %n]\n",
    "    for i in range(t):\n",
    "        if matrix[i][i] == 0:\n",
    "            return []\n",
    "    for i in range(t - 1, -1, -1):\n",
    "        for j in range(t):\n",
    "            if(res[j] == 0 or matrix[i][j]==0):\n",
    "                continue\n",
    "            res[i] = res[i] ^ matrix_mul[(matrix[i][j]-1)%n][(res[j]-1)%n]\n",
    "        if (vector[i] ^ res[i]) != 0:\n",
    "            res[i] = matrix_mul[((vector[i] ^ res[i]) -1)%n][(find_inverse(matrix_mul,matrix[i][i]) - 1)%n]\n",
    "        else:\n",
    "            res[i] = 0\n",
    "    return res"
   ]
  },
  {
   "cell_type": "markdown",
   "metadata": {},
   "source": [
    "## Получение матрицы локаторов"
   ]
  },
  {
   "cell_type": "code",
   "execution_count": 19,
   "metadata": {},
   "outputs": [],
   "source": [
    "def make_locator_matrix(s, t=13):\n",
    "    matrix_locator = np.zeros((t,t)).astype(int)\n",
    "    s_r = [s[i] for i in range(0, len(s)-1, 2)] \n",
    "    sub_matrix = [[1,0]]\n",
    "    sub_matrix.extend([[s[i+1], s[i]] for i in range(0,len(s)- 2,2)])\n",
    "    for i in range(0, len(matrix_locator), 2):\n",
    "        for j in range(0, len(sub_matrix) - i//2,1):\n",
    "            matrix_locator[j + (i // 2)][i] = sub_matrix[j][0]\n",
    "            if((i + 1) < len(matrix_locator[0])):\n",
    "                matrix_locator[j + (i//2)][i +1] = sub_matrix[j][1]\n",
    "    return matrix_locator, s_r"
   ]
  },
  {
   "cell_type": "markdown",
   "metadata": {},
   "source": [
    "## Находим индексы в которых произошла ошибка"
   ]
  },
  {
   "cell_type": "code",
   "execution_count": 20,
   "metadata": {},
   "outputs": [],
   "source": [
    "def get_err_indexes(matrix_locator, s_r, matrix_mul,matrix_pow, n=63):\n",
    "    i = n\n",
    "    roots = []\n",
    "    roots_index = []\n",
    "    while i > 0:\n",
    "        pol_loc = solve(matrix_locator[:i,:i], s_r[:i], matrix_mul)\n",
    "        if pol_loc != []:\n",
    "            roots = []\n",
    "            roots_index = []\n",
    "            for j in range(n):\n",
    "                pretend = 1\n",
    "                for k in range(len(pol_loc)):\n",
    "                    if pol_loc[k] !=0:\n",
    "                        pretend ^= matrix_mul[(matrix_pow[j][k] -1)%n][((pol_loc[k]) -1)%n]\n",
    "                if pretend == 0:\n",
    "                    root = find_inverse(matrix_mul, matrix_pow[j][0])\n",
    "                    roots.append(root)\n",
    "                    roots_index.append(int(np.where(matrix_pow[1] == root)[0] + 1) % n)\n",
    "            if len(roots) != len(pol_loc):\n",
    "                roots = []\n",
    "                roots_index = []\n",
    "            if roots != []:\n",
    "                break\n",
    "        i -= 1\n",
    "    return roots_index\n"
   ]
  },
  {
   "cell_type": "markdown",
   "metadata": {},
   "source": [
    "## Моделирование нашего кода"
   ]
  },
  {
   "cell_type": "code",
   "execution_count": 21,
   "metadata": {
    "scrolled": false
   },
   "outputs": [
    {
     "name": "stderr",
     "output_type": "stream",
     "text": [
      "100%|██████████| 25/25 [08:37<00:00, 25.58s/it]\n"
     ]
    }
   ],
   "source": [
    "num_of_runs = 100\n",
    "err_prob_in = np.arange(0, 0.5, 0.02)\n",
    "err_prob_out = {}\n",
    "err_prob_out[\"(63,10,27) Максимум правдоподобия\"] =[]\n",
    "err_prob_out[\"(63,10,27) ГЦП\"] =[]\n",
    "for p in tqdm(err_prob_in):\n",
    "    error_count = [0,0]\n",
    "    for run in (range(num_of_runs)):\n",
    "        ind = random.randint(0,100)\n",
    "        vec_most_suit = voc[ind].copy()\n",
    "        vec_origin = vec_most_suit.copy()\n",
    "        #make errors\n",
    "        for i in range(len(vec_most_suit)):\n",
    "            if random.random() < p:\n",
    "                vec_most_suit[i]^=1\n",
    "        vec_gcp = vec_most_suit.copy()\n",
    "        #find most_suit\n",
    "        vec_most_suit = most_suit(voc,vec_most_suit)\n",
    "        if vec_most_suit != vec_origin:\n",
    "            error_count[0] += 1\n",
    "        #GCP DECODE\n",
    "        s = get_syndrom(matrix_pow, vec_gcp)\n",
    "        if all(x == 0 for x in s):\n",
    "            continue\n",
    "        matrix_locator, s_r = make_locator_matrix(s)\n",
    "        for i in sorted(get_err_indexes(matrix_locator, s_r, matrix_mul,matrix_pow)):\n",
    "            vec_gcp[i] ^= 1\n",
    "        if vec_gcp!= vec_origin:\n",
    "            error_count[1] += 1      \n",
    "    err_prob_out[\"(63,10,27) Максимум правдоподобия\"].append(error_count[0] / num_of_runs)\n",
    "    err_prob_out[\"(63,10,27) ГЦП\"].append(error_count[1] / num_of_runs)\n",
    "       "
   ]
  },
  {
   "cell_type": "code",
   "execution_count": 22,
   "metadata": {},
   "outputs": [
    {
     "name": "stderr",
     "output_type": "stream",
     "text": [
      "/Users/Silya/anaconda3/lib/python3.6/site-packages/matplotlib/font_manager.py:1328: UserWarning: findfont: Font family ['serif'] not found. Falling back to DejaVu Sans\n",
      "  (prop.get_family(), self.defaultFamily[fontext]))\n"
     ]
    },
    {
     "data": {
      "image/png": "[encoded data removed]",
      "text/plain": [
       "<Figure size 1152x648 with 1 Axes>"
      ]
     },
     "metadata": {
      "needs_background": "light"
     },
     "output_type": "display_data"
    }
   ],
   "source": [
    "plt.figure(figsize=(16,9))\n",
    "for name in err_prob_out.keys():\n",
    "    plt.grid(1)\n",
    "    plt.plot(err_prob_in, err_prob_out[name], label=name)\n",
    "    plt.legend()\n",
    "    plt.xlabel(\"Вероятность ошибки на один символ\")\n",
    "    plt.ylabel(\"Вероятность ошибки декодирования\")"
   ]
  },
  {
   "cell_type": "code",
   "execution_count": null,
   "metadata": {},
   "outputs": [],
   "source": []
  },
  {
   "cell_type": "code",
   "execution_count": null,
   "metadata": {},
   "outputs": [],
   "source": []
  },
  {
   "cell_type": "code",
   "execution_count": null,
   "metadata": {},
   "outputs": [],
   "source": []
  },
  {
   "cell_type": "code",
   "execution_count": null,
   "metadata": {},
   "outputs": [],
   "source": []
  },
  {
   "cell_type": "code",
   "execution_count": null,
   "metadata": {},
   "outputs": [],
   "source": []
  },
  {
   "cell_type": "code",
   "execution_count": null,
   "metadata": {},
   "outputs": [],
   "source": []
  },
  {
   "cell_type": "markdown",
   "metadata": {},
   "source": [
    "http://peredacha-informacii.ru/table61.html"
   ]
  }
 ],
 "metadata": {
  "kernelspec": {
   "display_name": "Python 3",
   "language": "python",
   "name": "python3"
  },
  "language_info": {
   "codemirror_mode": {
    "name": "ipython",
    "version": 3
   },
   "file_extension": ".py",
   "mimetype": "text/x-python",
   "name": "python",
   "nbconvert_exporter": "python",
   "pygments_lexer": "ipython3",
   "version": "3.7.2"
  }
 },
 "nbformat": 4,
 "nbformat_minor": 2
}
